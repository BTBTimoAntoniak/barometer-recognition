{
 "cells": [
  {
   "cell_type": "code",
   "id": "1ac56ae2-4dca-4371-8e65-0757ff1cbf89",
   "metadata": {
    "ExecuteTime": {
     "end_time": "2024-04-11T08:29:46.033223Z",
     "start_time": "2024-04-11T08:24:29.307551Z"
    }
   },
   "source": [
    "%matplotlib notebook\n",
    "\n",
    "import cv2\n",
    "import numpy as np\n",
    "import json\n",
    "import math\n",
    "from matplotlib import pyplot as plt\n",
    "import ipywidgets as widgets\n",
    "import os\n",
    "\n",
    "def show_image(image):\n",
    "    img_rgb = cv2.cvtColor(image, cv2.COLOR_BGR2RGB)\n",
    "    plt.figure(figsize=(5,5))\n",
    "    plt.imshow(img_rgb)\n",
    "    plt.xticks([]), plt.yticks([])  # to hide tick values on X and Y axis\n",
    "    plt.show()\n",
    "    \n",
    "    \n",
    "path = os.path.join('..', 'roh_bilder', 'picture_data.json')\n",
    "    \n",
    "try:  \n",
    "    with open(path, 'r') as file:\n",
    "        barometers = json.load(file)\n",
    "except FileNotFoundError:\n",
    "    print('File not found')\n",
    "\n",
    "def avg_circles(circles, b):\n",
    "    avg_x = 0\n",
    "    avg_y = 0\n",
    "    avg_r = 0\n",
    "    for i in range(b):\n",
    "        avg_x = avg_x + circles[0][i][0]\n",
    "        avg_y = avg_y + circles[0][i][1]\n",
    "        avg_r = avg_r + circles[0][i][2]\n",
    "    avg_x = int(avg_x / (b))\n",
    "    avg_y = int(avg_y / (b))\n",
    "    avg_r = int(avg_r / (b))\n",
    "    return avg_x, avg_y, avg_r\n",
    "  \n",
    "\n",
    "def dist_2_pts(x2, y2):\n",
    "    return np.sqrt((x2 - 370) ** 2 + (y2 - 398) ** 2)\n",
    "\n",
    "all_results = []\n",
    "\n",
    "def test_parameters():\n",
    "    # Make the image copy inside this function\n",
    "    distance = 0\n",
    "    \n",
    "    for barometer in barometers:\n",
    "        results = []\n",
    "        min_radius = barometer['radius']['min']\n",
    "        max_radius = barometer['radius']['max']\n",
    "        x_center = barometer['center']['x']\n",
    "        y_center = barometer['center']['y'] \n",
    "        file_name = barometer['name']\n",
    "        \n",
    "        pathImage = os.path.join('..', 'roh_bilder', file_name)\n",
    "        print(pathImage)\n",
    "    \n",
    "        img = cv2.imread(pathImage)\n",
    "        circle_image = img.copy()\n",
    "    \n",
    "        # Convert to grayscale\n",
    "        grayscale = cv2.cvtColor(circle_image, cv2.COLOR_BGR2GRAY)\n",
    "\n",
    "        # Apply blur\n",
    "        blurred = cv2.medianBlur(grayscale, 5)          \n",
    "    \n",
    "        for param1 in range(1, 255, 5):\n",
    "            for param2 in range(1, 255, 5):\n",
    "                circles = cv2.HoughCircles(blurred, cv2.HOUGH_GRADIENT, circles=np.array([]), dp=1, minDist=200, param1=param1, param2=param2, minRadius=min_radius, maxRadius=max_radius)\n",
    "    \n",
    "                if len(circles) != 0:\n",
    "                    if len(circles) > 1: \n",
    "                        circles = np.round(circles[0, :]).astype(\"int\")\n",
    "                        a, b, c = circles.shape\n",
    "                        avg_x, avg_y, avg_r = avg_circles(circles, b)\n",
    "                        distance = dist_2_pts(avg_x, avg_y)\n",
    "                    else:\n",
    "                        x, y, r = circles[0][0]\n",
    "                        distance = dist_2_pts(x_center, y_center)\n",
    "                results.append((param1, param2, distance))\n",
    "                sorted_results = sorted(results, key=lambda x_: x_[2])\n",
    "                all_results.append(sorted_results[0])\n",
    "                    \n",
    "    return all_results\n",
    "\n",
    "test_parameters()\n",
    "all_results[0:2]"
   ],
   "outputs": [
    {
     "name": "stdout",
     "output_type": "stream",
     "text": [
      "[{'name': 'gauge1.jpeg', 'radius': {'min': 454, 'max': 555}, 'center': {'x': 1192, 'y': 732}}, {'name': 'gauge2.jpeg', 'radius': {'min': 464, 'max': 558}, 'center': {'x': 1087, 'y': 894}}, {'name': 'gauge3.jpeg', 'radius': {'min': 430, 'max': 508}, 'center': {'x': 1150, 'y': 853}}, {'name': 'gauge4.jpeg', 'radius': {'min': 459, 'max': 558}, 'center': {'x': 1113, 'y': 847}}, {'name': 'gauge5.jpeg', 'radius': {'min': 465, 'max': 538}, 'center': {'x': 1109, 'y': 873}}, {'name': 'gauge6.jpeg', 'radius': {'min': 458, 'max': 547}, 'center': {'x': 1084, 'y': 885}}, {'name': 'gauge7.jpeg', 'radius': {'min': 425, 'max': 500}, 'center': {'x': 1135, 'y': 884}}, {'name': 'gauge8.jpeg', 'radius': {'min': 455, 'max': 530}, 'center': {'x': 1256, 'y': 778}}, {'name': 'gauge9.jpeg', 'radius': {'min': 463, 'max': 556}, 'center': {'x': 1238, 'y': 785}}, {'name': 'gauge10.jpeg', 'radius': {'min': 448, 'max': 532}, 'center': {'x': 1192, 'y': 732}}, {'name': 'gauge11.jpeg', 'radius': {'min': 448, 'max': 569}, 'center': {'x': 1138, 'y': 836}}, {'name': 'gauge12.jpeg', 'radius': {'min': 254, 'max': 304}, 'center': {'x': 397, 'y': 410}}, {'name': 'gauge13.png', 'radius': {'min': 240, 'max': 275}, 'center': {'x': 370, 'y': 398}}]\n",
      "gauge1.jpeg\n",
      "..\\roh_bilder\\gauge1.jpeg\n"
     ]
    },
    {
     "ename": "KeyboardInterrupt",
     "evalue": "",
     "output_type": "error",
     "traceback": [
      "\u001B[1;31m---------------------------------------------------------------------------\u001B[0m",
      "\u001B[1;31mKeyboardInterrupt\u001B[0m                         Traceback (most recent call last)",
      "Cell \u001B[1;32mIn[25], line 102\u001B[0m\n\u001B[0;32m     98\u001B[0m                 all_results\u001B[38;5;241m.\u001B[39mextend(sorted_results)\n\u001B[0;32m    100\u001B[0m     \u001B[38;5;28;01mreturn\u001B[39;00m all_results\n\u001B[1;32m--> 102\u001B[0m \u001B[43mtest_parameters\u001B[49m\u001B[43m(\u001B[49m\u001B[43m)\u001B[49m\n\u001B[0;32m    103\u001B[0m all_results[\u001B[38;5;241m0\u001B[39m:\u001B[38;5;241m2\u001B[39m]\n",
      "Cell \u001B[1;32mIn[25], line 85\u001B[0m, in \u001B[0;36mtest_parameters\u001B[1;34m()\u001B[0m\n\u001B[0;32m     83\u001B[0m \u001B[38;5;28;01mfor\u001B[39;00m param1 \u001B[38;5;129;01min\u001B[39;00m \u001B[38;5;28mrange\u001B[39m(\u001B[38;5;241m1\u001B[39m, \u001B[38;5;241m255\u001B[39m, \u001B[38;5;241m5\u001B[39m):\n\u001B[0;32m     84\u001B[0m     \u001B[38;5;28;01mfor\u001B[39;00m param2 \u001B[38;5;129;01min\u001B[39;00m \u001B[38;5;28mrange\u001B[39m(\u001B[38;5;241m1\u001B[39m, \u001B[38;5;241m255\u001B[39m, \u001B[38;5;241m5\u001B[39m):\n\u001B[1;32m---> 85\u001B[0m         circles \u001B[38;5;241m=\u001B[39m \u001B[43mcv2\u001B[49m\u001B[38;5;241;43m.\u001B[39;49m\u001B[43mHoughCircles\u001B[49m\u001B[43m(\u001B[49m\u001B[43mblurred\u001B[49m\u001B[43m,\u001B[49m\u001B[43m \u001B[49m\u001B[43mcv2\u001B[49m\u001B[38;5;241;43m.\u001B[39;49m\u001B[43mHOUGH_GRADIENT\u001B[49m\u001B[43m,\u001B[49m\u001B[43m \u001B[49m\u001B[43mcircles\u001B[49m\u001B[38;5;241;43m=\u001B[39;49m\u001B[43mnp\u001B[49m\u001B[38;5;241;43m.\u001B[39;49m\u001B[43marray\u001B[49m\u001B[43m(\u001B[49m\u001B[43m[\u001B[49m\u001B[43m]\u001B[49m\u001B[43m)\u001B[49m\u001B[43m,\u001B[49m\u001B[43m \u001B[49m\u001B[43mdp\u001B[49m\u001B[38;5;241;43m=\u001B[39;49m\u001B[38;5;241;43m1\u001B[39;49m\u001B[43m,\u001B[49m\u001B[43m \u001B[49m\u001B[43mminDist\u001B[49m\u001B[38;5;241;43m=\u001B[39;49m\u001B[38;5;241;43m200\u001B[39;49m\u001B[43m,\u001B[49m\u001B[43m \u001B[49m\u001B[43mparam1\u001B[49m\u001B[38;5;241;43m=\u001B[39;49m\u001B[43mparam1\u001B[49m\u001B[43m,\u001B[49m\u001B[43m \u001B[49m\u001B[43mparam2\u001B[49m\u001B[38;5;241;43m=\u001B[39;49m\u001B[43mparam2\u001B[49m\u001B[43m,\u001B[49m\u001B[43m \u001B[49m\u001B[43mminRadius\u001B[49m\u001B[38;5;241;43m=\u001B[39;49m\u001B[43mmin_radius\u001B[49m\u001B[43m,\u001B[49m\u001B[43m \u001B[49m\u001B[43mmaxRadius\u001B[49m\u001B[38;5;241;43m=\u001B[39;49m\u001B[43mmax_radius\u001B[49m\u001B[43m)\u001B[49m\n\u001B[0;32m     87\u001B[0m         \u001B[38;5;28;01mif\u001B[39;00m \u001B[38;5;28mlen\u001B[39m(circles) \u001B[38;5;241m!=\u001B[39m \u001B[38;5;241m0\u001B[39m:\n\u001B[0;32m     88\u001B[0m             \u001B[38;5;28;01mif\u001B[39;00m \u001B[38;5;28mlen\u001B[39m(circles) \u001B[38;5;241m>\u001B[39m \u001B[38;5;241m1\u001B[39m: \n",
      "\u001B[1;31mKeyboardInterrupt\u001B[0m: "
     ]
    }
   ],
   "execution_count": 25
  },
  {
   "cell_type": "code",
   "source": [],
   "metadata": {
    "collapsed": false
   },
   "id": "295fe40ffe01cc90",
   "outputs": [],
   "execution_count": null
  }
 ],
 "metadata": {
  "kernelspec": {
   "display_name": "Python 3 (ipykernel)",
   "language": "python",
   "name": "python3"
  },
  "language_info": {
   "codemirror_mode": {
    "name": "ipython",
    "version": 3
   },
   "file_extension": ".py",
   "mimetype": "text/x-python",
   "name": "python",
   "nbconvert_exporter": "python",
   "pygments_lexer": "ipython3",
   "version": "3.10.13"
  }
 },
 "nbformat": 4,
 "nbformat_minor": 5
}
