{
 "cells": [
  {
   "cell_type": "code",
   "execution_count": 5,
   "id": "initial_id",
   "metadata": {
    "ExecuteTime": {
     "end_time": "2024-04-04T11:05:48.276280800Z",
     "start_time": "2024-04-04T11:05:48.260338600Z"
    }
   },
   "outputs": [
    {
     "data": {
      "application/vnd.jupyter.widget-view+json": {
       "model_id": "cd698e637dac4de8999a54cdb7a2ab77",
       "version_major": 2,
       "version_minor": 0
      },
      "text/plain": [
       "interactive(children=(Text(value='Yosef', description='name'), Output()), _dom_classes=('widget-interact',))"
      ]
     },
     "metadata": {},
     "output_type": "display_data"
    }
   ],
   "source": [
    "%matplotlib notebook\n",
    "import ipywidgets as widgets\n",
    "import matplotlib.pyplot as plt\n",
    "import numpy as np\n",
    "\n",
    "def say_my_name(name):\n",
    "    \"\"\"\n",
    "    Print the current widget value in short sentence\n",
    "    \"\"\"\n",
    "    print(f'My name is {name}')\n",
    "     \n",
    "widgets.interact(say_my_name, name=\"Yosef\");"
   ]
  },
  {
   "cell_type": "code",
   "execution_count": 8,
   "id": "1ac56ae2-4dca-4371-8e65-0757ff1cbf89",
   "metadata": {},
   "outputs": [],
   "source": [
    "%matplotlib notebook\n",
    "\n",
    "import cv2\n",
    "import numpy as np\n",
    "import math\n",
    "from matplotlib import pyplot as plt\n",
    "\n",
    "def show_image(image):\n",
    "    img_rgb = cv2.cvtColor(image, cv2.COLOR_BGR2RGB)\n",
    "    plt.imshow(img_rgb)\n",
    "    plt.xticks([]), plt.yticks([])\n",
    "    plt.show()\n",
    "\n",
    "file_name='gauge-3'\n",
    "file_type='png'\n",
    "\n",
    "img = cv2.imread('%s.%s' % (file_name, file_type))\n",
    "\n",
    "\n",
    "def find_circles(dp=1, min_dist=20, param1=50, param2=30, min_radius=0, max_radius=0):\n",
    "    # Make the image copy inside this function\n",
    "    circle_image = img.copy();\n",
    "\n",
    "    # Convert to grayscale\n",
    "    grayscale = cv2.cvtColor(circle_image, cv2.COLOR_BGR2GRAY)\n",
    "\n",
    "    # Apply blur\n",
    "    blurred = cv2.medianBlur(grayscale, 5)\n",
    "\n",
    "    # Detect circles\n",
    "    circles = cv2.HoughCircles(blurred, cv2.HOUGH_GRADIENT, dp, min_dist, param1=param1, param2=param2,\n",
    "                               minRadius=min_radius, maxRadius=max_radius)\n",
    "\n",
    "    if circles is not None:\n",
    "        circles = np.round(circles[0, :]).astype(\"int\")\n",
    "        for (x, y, r) in circles:\n",
    "            cv2.circle(circle_image, (x, y), r, (0, 255, 0), 4)\n",
    "            \n",
    "    # Show the image inside this function\n",
    "    show_image(circle_image)\n",
    "\n",
    "widgets.interact(find_circles, \n",
    "                dp=(1, 10, 1),\n",
    "                min_dist=(1, 100, 1),\n",
    "                param1=(1, 300, 1),\n",
    "                param2=(1, 300, 1),\n",
    "                min_radius=(0, 100, 1),\n",
    "                max_radius=(0, 100, 1)\n",
    "                )"
   ]
  },
  {
   "cell_type": "code",
   "execution_count": null,
   "id": "6b9a7ceb-377d-4446-afbb-9d903f60a846",
   "metadata": {},
   "outputs": [],
   "source": []
  }
 ],
 "metadata": {
  "kernelspec": {
   "display_name": "Python 3 (ipykernel)",
   "language": "python",
   "name": "python3"
  },
  "language_info": {
   "codemirror_mode": {
    "name": "ipython",
    "version": 3
   },
   "file_extension": ".py",
   "mimetype": "text/x-python",
   "name": "python",
   "nbconvert_exporter": "python",
   "pygments_lexer": "ipython3",
   "version": "3.10.13"
  }
 },
 "nbformat": 4,
 "nbformat_minor": 5
}
